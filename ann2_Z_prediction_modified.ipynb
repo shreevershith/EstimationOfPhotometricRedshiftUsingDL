{
 "cells": [
  {
   "cell_type": "code",
   "execution_count": 1,
   "metadata": {},
   "outputs": [
    {
     "name": "stdout",
     "output_type": "stream",
     "text": [
      "               objid  modelMag_u  modelMag_g  modelMag_r  modelMag_i  \\\n",
      "0       1.237647e+18    22.70128    21.55564    20.74338    19.97239   \n",
      "1       1.237647e+18    23.23910    21.44343    19.67306    18.94400   \n",
      "2       1.237647e+18    24.05348    21.24721    19.39289    18.68024   \n",
      "3       1.237647e+18    26.32478    20.74059    18.99681    18.29084   \n",
      "4       1.237647e+18    24.76801    19.32076    17.81846    17.23835   \n",
      "...              ...         ...         ...         ...         ...   \n",
      "604930  1.237680e+18    23.95901    21.45168    20.99064    20.83455   \n",
      "604931  1.237680e+18    26.08886    22.08654    21.42736    21.39464   \n",
      "604932  1.237680e+18    24.30561    23.59575    21.74487    20.60606   \n",
      "604933  1.237680e+18    25.70489    22.18283    21.30940    20.22876   \n",
      "604934  1.237681e+18    21.34051    20.64733    20.40584    20.45839   \n",
      "\n",
      "        modelMag_z  fiberMag_u  fiberMag_g  fiberMag_r  fiberMag_i  ...  \\\n",
      "0         19.65203    23.26064    22.38317    21.52284    20.75258  ...   \n",
      "1         18.55688    23.69614    22.34922    20.59603    19.86871  ...   \n",
      "2         18.31429    24.11929    22.13657    20.29977    19.57731  ...   \n",
      "3         17.80812    25.19303    21.98622    20.28767    19.56692  ...   \n",
      "4         16.92202    24.11602    20.81318    19.32606    18.72738  ...   \n",
      "...            ...         ...         ...         ...         ...  ...   \n",
      "604930    20.90097    24.58145    21.84688    21.45192    21.29986  ...   \n",
      "604931    21.62726    25.44403    22.58780    21.98829    21.84853  ...   \n",
      "604932    19.91005    24.03291    24.07756    22.41889    21.23574  ...   \n",
      "604933    19.21709    23.99918    23.17838    22.30052    21.11168  ...   \n",
      "604934    20.28701    21.82719    21.07991    20.84015    20.84428  ...   \n",
      "\n",
      "        redshift      zerr       mmug       mmgr       mmri       mmiz  \\\n",
      "0       0.679974  0.000121  22.128460  21.149510  20.357885  19.812210   \n",
      "1       0.412071  0.000114  22.341265  20.558245  19.308530  18.750440   \n",
      "2       0.413140  0.000068  22.650345  20.320050  19.036565  18.497265   \n",
      "3       0.399193  0.000078  23.532685  19.868700  18.643825  18.049480   \n",
      "4       0.253831  0.000034  22.044385  18.569610  17.528405  17.080185   \n",
      "...          ...       ...        ...        ...        ...        ...   \n",
      "604930  6.911286  0.008792  22.705345  21.221160  20.912595  20.867760   \n",
      "604931  5.464636  0.001358  24.087700  21.756950  21.411000  21.510950   \n",
      "604932  5.350088  0.001004  23.950680  22.670310  21.175465  20.258055   \n",
      "604933  6.964785  0.000015  23.943860  21.746115  20.769080  19.722925   \n",
      "604934  6.422472  0.000135  20.993920  20.526585  20.432115  20.372700   \n",
      "\n",
      "             mfug       mfgr       mfri       mfiz  \n",
      "0       22.821905  21.953005  21.137710  20.602890  \n",
      "1       23.022680  21.472625  20.232370  19.659590  \n",
      "2       23.127930  21.218170  19.938540  19.384555  \n",
      "3       23.589625  21.136945  19.927295  19.318555  \n",
      "4       22.464600  20.069620  19.026720  18.568060  \n",
      "...           ...        ...        ...        ...  \n",
      "604930  23.214165  21.649400  21.375890  21.362660  \n",
      "604931  24.015915  22.288045  21.918410  21.963385  \n",
      "604932  24.055235  23.248225  21.827315  20.866255  \n",
      "604933  23.588780  22.739450  21.706100  20.624625  \n",
      "604934  21.453550  20.960030  20.842215  20.830430  \n",
      "\n",
      "[604935 rows x 28 columns]\n",
      "               objid  modelMag_u  modelMag_g  modelMag_r  modelMag_i  \\\n",
      "0       1.240000e+18    24.97700    22.83040    20.54547    19.34839   \n",
      "1       1.240000e+18    21.17368    20.48288    18.87302    18.27068   \n",
      "2       1.240000e+18    23.48565    22.14779    20.88740    19.94785   \n",
      "3       1.240000e+18    19.66740    18.25509    17.28051    16.81088   \n",
      "4       1.240000e+18    21.57123    21.67336    20.29921    19.38819   \n",
      "...              ...         ...         ...         ...         ...   \n",
      "499995  1.240000e+18    20.59166    18.55420    17.48266    17.02114   \n",
      "499996  1.240000e+18    26.35851    22.58012    20.99196    19.96384   \n",
      "499997  1.240000e+18    23.08484    20.17798    18.55420    17.89610   \n",
      "499998  1.240000e+18    23.56228    23.58247    21.77236    20.68468   \n",
      "499999  1.240000e+18    25.33892    22.03483    20.26886    19.13766   \n",
      "\n",
      "        modelMag_z  fiberMag_u  fiberMag_g  fiberMag_r  fiberMag_i  ...  \\\n",
      "0         19.00764    24.90280    22.96302    21.21344    20.17241  ...   \n",
      "1         17.91247    22.80657    21.67503    20.05176    19.46776  ...   \n",
      "2         19.32007    23.83660    22.63644    21.39665    20.66703  ...   \n",
      "3         16.47847    21.36873    19.94616    18.94829    18.44931  ...   \n",
      "4         18.83567    22.58364    22.72609    21.35575    20.45513  ...   \n",
      "...            ...         ...         ...         ...         ...  ...   \n",
      "499995    16.71273    21.62192    19.64273    18.58122    18.13272  ...   \n",
      "499996    19.57899    25.90936    23.12149    21.61073    20.58095  ...   \n",
      "499997    17.42232    23.70775    21.19429    19.56469    18.93391  ...   \n",
      "499998    20.01052    23.89139    23.82884    22.15735    21.07860  ...   \n",
      "499999    18.73759    24.76169    22.84560    21.15775    20.04658  ...   \n",
      "\n",
      "               z      zerr       mmug       mmgr       mmri       mmiz  \\\n",
      "0       19.00764  0.000149  23.903700  21.687935  19.946930  19.178015   \n",
      "1       17.91247  0.000061  20.828280  19.677950  18.571850  18.091575   \n",
      "2       19.32007  0.000139  22.816720  21.517595  20.417625  19.633960   \n",
      "3       16.47847  0.000019  18.961245  17.767800  17.045695  16.644675   \n",
      "4       18.83567  0.000193  21.622295  20.986285  19.843700  19.111930   \n",
      "...          ...       ...        ...        ...        ...        ...   \n",
      "499995  16.71273  0.000027  19.572930  18.018430  17.251900  16.866935   \n",
      "499996  19.57899  0.000181  24.469315  21.786040  20.477900  19.771415   \n",
      "499997  17.42232  0.000058  21.631410  19.366090  18.225150  17.659210   \n",
      "499998  20.01052  0.000226  23.572375  22.677415  21.228520  20.347600   \n",
      "499999  18.73759  0.000104  23.686875  21.151845  19.703260  18.937625   \n",
      "\n",
      "             mfug       mfgr       mfri       mfiz  \n",
      "0       23.932910  22.088230  20.692925  19.959675  \n",
      "1       22.240800  20.863395  19.759760  19.296955  \n",
      "2       23.236520  22.016545  21.031840  20.339535  \n",
      "3       20.657445  19.447225  18.698800  18.284605  \n",
      "4       22.654865  22.040920  20.905440  20.143925  \n",
      "...           ...        ...        ...        ...  \n",
      "499995  20.632325  19.111975  18.356970  17.977870  \n",
      "499996  24.515425  22.366110  21.095840  20.402610  \n",
      "499997  22.451020  20.379490  19.249300  18.697310  \n",
      "499998  23.860115  22.993095  21.617975  20.716500  \n",
      "499999  23.803645  22.001675  20.602165  19.857145  \n",
      "\n",
      "[500000 rows x 27 columns]\n"
     ]
    }
   ],
   "source": [
    "import matplotlib.pyplot as plt\n",
    "import pandas as pd\n",
    "import numpy as np\n",
    "import timeit\n",
    "\n",
    "start = timeit.default_timer()\n",
    "\n",
    "data = pd.read_csv('data/highz_train.csv')\n",
    "print(data)\n",
    "N = len(data)\n",
    "\n",
    "data1 = pd.read_csv('data/highz_test.csv')\n",
    "print(data1)\n",
    "M = len(data1)"
   ]
  },
  {
   "cell_type": "code",
   "execution_count": 2,
   "metadata": {},
   "outputs": [
    {
     "data": {
      "text/plain": [
       "array([[1.2400000e+18, 2.4977000e+01, 2.2830400e+01, ..., 2.2088230e+01,\n",
       "        2.0692925e+01, 1.9959675e+01],\n",
       "       [1.2400000e+18, 2.1173680e+01, 2.0482880e+01, ..., 2.0863395e+01,\n",
       "        1.9759760e+01, 1.9296955e+01],\n",
       "       [1.2400000e+18, 2.3485650e+01, 2.2147790e+01, ..., 2.2016545e+01,\n",
       "        2.1031840e+01, 2.0339535e+01],\n",
       "       ...,\n",
       "       [1.2400000e+18, 2.3084840e+01, 2.0177980e+01, ..., 2.0379490e+01,\n",
       "        1.9249300e+01, 1.8697310e+01],\n",
       "       [1.2400000e+18, 2.3562280e+01, 2.3582470e+01, ..., 2.2993095e+01,\n",
       "        2.1617975e+01, 2.0716500e+01],\n",
       "       [1.2400000e+18, 2.5338920e+01, 2.2034830e+01, ..., 2.2001675e+01,\n",
       "        2.0602165e+01, 1.9857145e+01]])"
      ]
     },
     "execution_count": 2,
     "metadata": {},
     "output_type": "execute_result"
    }
   ],
   "source": [
    "#Data Cleaning\n",
    "from sklearn.impute import SimpleImputer\n",
    "Imputer = SimpleImputer(missing_values =-9999, strategy='most_frequent')\n",
    "Imputer.fit(data.values)\n",
    "Imputer.transform(data.values)\n",
    "\n",
    "Imputer = SimpleImputer(missing_values =0, strategy='most_frequent')\n",
    "Imputer.fit(data.values)\n",
    "Imputer.transform(data.values)\n",
    "\n",
    "Imputer = SimpleImputer(missing_values =-9999, strategy='most_frequent')\n",
    "Imputer.fit(data1.values)\n",
    "Imputer.transform(data1.values)\n",
    "\n",
    "Imputer = SimpleImputer(missing_values =0, strategy='most_frequent')\n",
    "Imputer.fit(data1.values)\n",
    "Imputer.transform(data1.values)"
   ]
  },
  {
   "cell_type": "code",
   "execution_count": 3,
   "metadata": {},
   "outputs": [
    {
     "data": {
      "text/plain": [
       "Text(0, 0.5, 'Number of samples')"
      ]
     },
     "execution_count": 3,
     "metadata": {},
     "output_type": "execute_result"
    },
    {
     "data": {
      "image/png": "[encoded data removed]",
      "text/plain": [
       "<Figure size 432x288 with 1 Axes>"
      ]
     },
     "metadata": {
      "needs_background": "light"
     },
     "output_type": "display_data"
    }
   ],
   "source": [
    "plt.hist(data['redshift'], bins=30, alpha=0.7)\n",
    "plt.xlabel('SpecZ')\n",
    "plt.ylabel('Number of samples')"
   ]
  },
  {
   "cell_type": "code",
   "execution_count": 4,
   "metadata": {},
   "outputs": [],
   "source": [
    "#Refered from base paper. Topic-->[Logarithmic Domain] Pg 4\n",
    "c=1\n",
    "data['redshift1']=c*np.log(data.redshift+1)"
   ]
  },
  {
   "cell_type": "code",
   "execution_count": 5,
   "metadata": {},
   "outputs": [
    {
     "data": {
      "image/png": "[encoded data removed]",
      "text/plain": [
       "<Figure size 432x288 with 1 Axes>"
      ]
     },
     "metadata": {
      "needs_background": "light"
     },
     "output_type": "display_data"
    }
   ],
   "source": [
    "#plotting the graph of actual redshift vs logarithmic redshift\n",
    "plt.scatter(data['redshift'].tolist()[:25000], data['redshift1'].tolist()[:25000], s=0.1, color=\"red\")\n",
    "plt.xlabel(\"Actual Redshift\")\n",
    "plt.ylabel(\"Logarithmic redshift\")\n",
    "plt.title(\"ANN\")\n",
    "plt.show()"
   ]
  },
  {
   "cell_type": "code",
   "execution_count": 6,
   "metadata": {},
   "outputs": [
    {
     "data": {
      "text/plain": [
       "'from sklearn.preprocessing import MinMaxScaler\\nfrom sklearn.preprocessing import StandardScaler\\n\\n# define min max scaler and standard scalar\\nscaler = MinMaxScaler()\\nscaler1 = StandardScaler()\\n\\n# transform data\\nscaler.fit_transform(data.values)\\nscaler.fit_transform(data1.values)\\n\\nscaler1.fit_transform(data.values)\\nscaler1.fit_transform(data1.values)'"
      ]
     },
     "execution_count": 6,
     "metadata": {},
     "output_type": "execute_result"
    }
   ],
   "source": [
    "'''from sklearn.preprocessing import MinMaxScaler\n",
    "from sklearn.preprocessing import StandardScaler\n",
    "\n",
    "# define min max scaler and standard scalar\n",
    "scaler = MinMaxScaler()\n",
    "scaler1 = StandardScaler()\n",
    "\n",
    "# transform data\n",
    "scaler.fit_transform(data.values)\n",
    "scaler.fit_transform(data1.values)\n",
    "\n",
    "scaler1.fit_transform(data.values)\n",
    "scaler1.fit_transform(data1.values)'''"
   ]
  },
  {
   "cell_type": "code",
   "execution_count": 7,
   "metadata": {},
   "outputs": [
    {
     "name": "stdout",
     "output_type": "stream",
     "text": [
      "[[22.70128  21.55564  20.74338  ... 21.953005 21.13771  20.60289 ]\n",
      " [23.2391   21.44343  19.67306  ... 21.472625 20.23237  19.65959 ]\n",
      " [24.05348  21.24721  19.39289  ... 21.21817  19.93854  19.384555]\n",
      " ...\n",
      " [24.30561  23.59575  21.74487  ... 23.248225 21.827315 20.866255]\n",
      " [25.70489  22.18283  21.3094   ... 22.73945  21.7061   20.624625]\n",
      " [21.34051  20.64733  20.40584  ... 20.96003  20.842215 20.83043 ]]\n",
      "[[24.977    22.8304   20.54547  ... 22.08823  20.692925 19.959675]\n",
      " [21.17368  20.48288  18.87302  ... 20.863395 19.75976  19.296955]\n",
      " [23.48565  22.14779  20.8874   ... 22.016545 21.03184  20.339535]\n",
      " ...\n",
      " [23.08484  20.17798  18.5542   ... 20.37949  19.2493   18.69731 ]\n",
      " [23.56228  23.58247  21.77236  ... 22.993095 21.617975 20.7165  ]\n",
      " [25.33892  22.03483  20.26886  ... 22.001675 20.602165 19.857145]]\n",
      "Training data has 453701 samples\n",
      "Test data has 500000 samples\n",
      "0         0.518778\n",
      "1         0.345057\n",
      "2         0.345814\n",
      "3         0.335896\n",
      "4         0.226204\n",
      "            ...   \n",
      "453696    0.343873\n",
      "453697    0.108987\n",
      "453698    0.179993\n",
      "453699    0.058037\n",
      "453700    0.058796\n",
      "Name: redshift1, Length: 453701, dtype: float64\n"
     ]
    }
   ],
   "source": [
    "#Check Page 3 and 4 from base paper\n",
    "# Feature matrix\n",
    "\n",
    "X=np.zeros((N,30))\n",
    "X[: ,0] = data['modelMag_u']\n",
    "X[: ,1] = data['modelMag_g']\n",
    "X[: ,2] = data['modelMag_r']\n",
    "X[: ,3] = data['modelMag_i']\n",
    "X[: ,4] = data['modelMag_z']\n",
    "X[: ,5] = data['modelMag_u'] - data['modelMag_g']\n",
    "X[: ,6] = data['modelMag_g'] - data['modelMag_r']\n",
    "X[: ,7] = data['modelMag_r'] - data['modelMag_i']\n",
    "X[: ,8] = data['modelMag_i'] - data['modelMag_z']\n",
    "X[: ,9] = data['fiberMag_u']\n",
    "X[: ,10] = data['fiberMag_g']\n",
    "X[: ,11] = data['fiberMag_r']\n",
    "X[: ,12] = data['fiberMag_i']\n",
    "X[: ,13] = data['fiberMag_z']\n",
    "X[: ,14] = data['fiberMag_u'] - data['fiberMag_g']\n",
    "X[: ,15] = data['fiberMag_g'] - data['fiberMag_r']\n",
    "X[: ,16] = data['fiberMag_r'] - data['fiberMag_i']\n",
    "X[: ,17] = data['fiberMag_i'] - data['fiberMag_z']\n",
    "X[: ,18] = data['petroR50_r'] / data['petroR90_r']\n",
    "X[: ,19] = data['petroR50_z'] / data['petroR90_z']\n",
    "X[: ,20] = data['r'] - data['i']\n",
    "X[: ,21] = data['i'] - data['z']\n",
    "X[: ,22] = data['mmug']\n",
    "X[: ,23] = data['mmgr']\n",
    "X[: ,24] = data['mmri']\n",
    "X[: ,25] = data['mmiz']\n",
    "X[: ,26] = data['mfug']\n",
    "X[: ,27] = data['mfgr']\n",
    "X[: ,28] = data['mfri']\n",
    "X[: ,29] = data['mfiz']\n",
    "print(X)\n",
    "\n",
    "y = data['redshift1']\n",
    "\n",
    "Z = np.zeros((M,30))\n",
    "Z[: ,0] = data1['modelMag_u']\n",
    "Z[: ,1] = data1['modelMag_g']\n",
    "Z[: ,2] = data1['modelMag_r']\n",
    "Z[: ,3] = data1['modelMag_i']\n",
    "Z[: ,4] = data1['modelMag_z']\n",
    "Z[: ,5] = data1['modelMag_u'] - data1['modelMag_g']\n",
    "Z[: ,6] = data1['modelMag_g'] - data1['modelMag_r']\n",
    "Z[: ,7] = data1['modelMag_r'] - data1['modelMag_i']\n",
    "Z[: ,8] = data1['modelMag_i'] - data1['modelMag_z']\n",
    "Z[: ,9] = data1['fiberMag_u']\n",
    "Z[: ,10] = data1['fiberMag_g']\n",
    "Z[: ,11] = data1['fiberMag_r']\n",
    "Z[: ,12] = data1['fiberMag_i']\n",
    "Z[: ,13] = data1['fiberMag_z']\n",
    "Z[: ,14] = data1['fiberMag_u'] - data1['fiberMag_g']\n",
    "Z[: ,15] = data1['fiberMag_g'] - data1['fiberMag_r']\n",
    "Z[: ,16] = data1['fiberMag_r'] - data1['fiberMag_i']\n",
    "Z[: ,17] = data1['fiberMag_i'] - data1['fiberMag_z']\n",
    "Z[: ,18] = data1['petroR50_r'] / data1['petroR90_r']\n",
    "Z[: ,19] = data1['petroR50_z'] / data1['petroR90_z']\n",
    "Z[: ,20] = data1['r'] - data1['i']\n",
    "Z[: ,21] = data1['i'] - data1['z']\n",
    "Z[: ,22] = data1['mmug']\n",
    "Z[: ,23] = data1['mmgr']\n",
    "Z[: ,24] = data1['mmri']\n",
    "Z[: ,25] = data1['mmiz']\n",
    "Z[: ,26] = data1['mfug']\n",
    "Z[: ,27] = data1['mfgr']\n",
    "Z[: ,28] = data1['mfri']\n",
    "Z[: ,29] = data1['mfiz']\n",
    "print(Z)\n",
    "\n",
    "train_no=int((3*N)/4)\n",
    "X_train=X[:train_no,:]\n",
    "y_train=y[:train_no]\n",
    "X_test=X[train_no:,:]\n",
    "y_test=y[train_no:]\n",
    "Z_test=Z[:,:]\n",
    "print('Training data has',len(X_train.tolist()),'samples')\n",
    "print('Test data has',len(Z_test.tolist()),'samples')\n",
    "print(y_train)"
   ]
  },
  {
   "cell_type": "code",
   "execution_count": 8,
   "metadata": {},
   "outputs": [
    {
     "data": {
      "text/plain": [
       "'from sklearn.feature_selection import SelectKBest\\nfrom sklearn.feature_selection import f_classif\\n\\nselector = SelectKBest(f_classif, k=10)\\nselected_features = selector.fit_transform(train_features, train_labels)\\nf_score_indexes = (-selector.scores_).argsort()[:10]\\n\\nprint(f_score_indexes)'"
      ]
     },
     "execution_count": 8,
     "metadata": {},
     "output_type": "execute_result"
    }
   ],
   "source": [
    "'''from sklearn.feature_selection import SelectKBest\n",
    "from sklearn.feature_selection import f_classif\n",
    "\n",
    "selector = SelectKBest(f_classif, k=10)\n",
    "selected_features = selector.fit_transform(train_features, train_labels)\n",
    "f_score_indexes = (-selector.scores_).argsort()[:10]\n",
    "\n",
    "print(f_score_indexes)'''"
   ]
  },
  {
   "cell_type": "code",
   "execution_count": 9,
   "metadata": {},
   "outputs": [
    {
     "data": {
      "text/plain": [
       "\"#Feature Elimination\\n\\nX = np.zeros((N,10))\\nX[: ,0] = data['modelMag_r']\\nX[: ,1] = data['modelMag_i']\\nX[: ,2] = data['modelMag_z']\\nX[: ,3] = data['fiberMag_r']\\nX[: ,4] = data['fiberMag_i']\\nX[: ,5] = data['petroR50_r'] / data['petroR90_r']\\nX[: ,6] = data['mmri']\\nX[: ,7] = data['mmiz']\\nX[: ,8] = data['mfri']\\nX[: ,9] = data['mfiz']\\nprint(X)\\n\\ny = data['redshift1']\\n\\ntrain_no=int((3*N)/4)\\nX_train=X[:train_no,:]\\ny_train=y[:train_no]\\nX_test=X[train_no:,:]\\ny_test=y[train_no:]\\nprint('Training data has %d samples'%(train_no))\\nprint('Test data has %d samples'%(N-train_no))\\nprint(y_train)\""
      ]
     },
     "execution_count": 9,
     "metadata": {},
     "output_type": "execute_result"
    }
   ],
   "source": [
    "'''#Feature Elimination\n",
    "\n",
    "X = np.zeros((N,10))\n",
    "X[: ,0] = data['modelMag_r']\n",
    "X[: ,1] = data['modelMag_i']\n",
    "X[: ,2] = data['modelMag_z']\n",
    "X[: ,3] = data['fiberMag_r']\n",
    "X[: ,4] = data['fiberMag_i']\n",
    "X[: ,5] = data['petroR50_r'] / data['petroR90_r']\n",
    "X[: ,6] = data['mmri']\n",
    "X[: ,7] = data['mmiz']\n",
    "X[: ,8] = data['mfri']\n",
    "X[: ,9] = data['mfiz']\n",
    "print(X)\n",
    "\n",
    "y = data['redshift1']\n",
    "\n",
    "train_no=int((3*N)/4)\n",
    "X_train=X[:train_no,:]\n",
    "y_train=y[:train_no]\n",
    "X_test=X[train_no:,:]\n",
    "y_test=y[train_no:]\n",
    "print('Training data has %d samples'%(train_no))\n",
    "print('Test data has %d samples'%(N-train_no))\n",
    "print(y_train)'''"
   ]
  },
  {
   "cell_type": "code",
   "execution_count": 10,
   "metadata": {
    "scrolled": false
   },
   "outputs": [
    {
     "name": "stderr",
     "output_type": "stream",
     "text": [
      "Using TensorFlow backend.\n",
      "C:\\Anaconda3\\lib\\site-packages\\ipykernel_launcher.py:12: UserWarning: Update your `Dense` call to the Keras 2 API: `Dense(kernel_initializer=\"normal\", input_dim=30, activation=\"relu\", units=960, kernel_regularizer=<keras.reg...)`\n",
      "  if sys.path[0] == '':\n",
      "C:\\Anaconda3\\lib\\site-packages\\ipykernel_launcher.py:16: UserWarning: Update your `Dense` call to the Keras 2 API: `Dense(256, kernel_initializer=\"normal\", activation=\"relu\", kernel_regularizer=<keras.reg...)`\n",
      "  app.launch_new_instance()\n",
      "C:\\Anaconda3\\lib\\site-packages\\ipykernel_launcher.py:17: UserWarning: Update your `Dense` call to the Keras 2 API: `Dense(256, kernel_initializer=\"normal\", activation=\"relu\", kernel_regularizer=<keras.reg...)`\n",
      "C:\\Anaconda3\\lib\\site-packages\\ipykernel_launcher.py:18: UserWarning: Update your `Dense` call to the Keras 2 API: `Dense(256, kernel_initializer=\"normal\", activation=\"relu\", kernel_regularizer=<keras.reg...)`\n",
      "C:\\Anaconda3\\lib\\site-packages\\ipykernel_launcher.py:28: UserWarning: The `nb_epoch` argument in `fit` has been renamed `epochs`.\n"
     ]
    },
    {
     "name": "stdout",
     "output_type": "stream",
     "text": [
      "Train on 453701 samples, validate on 151234 samples\n",
      "Epoch 1/10\n",
      "453701/453701 [==============================] - 75s 165us/step - loss: 0.9919 - mse: 566.8438 - val_loss: 0.9600 - val_mse: 1.7107\n",
      "Epoch 2/10\n",
      "453701/453701 [==============================] - 77s 169us/step - loss: 0.1616 - mse: 1.5012 - val_loss: 0.8008 - val_mse: 0.8668\n",
      "Epoch 3/10\n",
      "453701/453701 [==============================] - 79s 173us/step - loss: 0.1353 - mse: 0.1231 - val_loss: 0.8231 - val_mse: 0.9103\n",
      "Epoch 4/10\n",
      "453701/453701 [==============================] - 79s 174us/step - loss: 0.1295 - mse: 0.0703 - val_loss: 0.8835 - val_mse: 1.0523\n",
      "Epoch 5/10\n",
      "453701/453701 [==============================] - 79s 175us/step - loss: 0.1256 - mse: 0.0775 - val_loss: 0.5374 - val_mse: 0.4120\n",
      "Epoch 6/10\n",
      "453701/453701 [==============================] - 77s 169us/step - loss: 0.1248 - mse: 0.1841 - val_loss: 0.9873 - val_mse: 1.2224\n",
      "Epoch 7/10\n",
      "453701/453701 [==============================] - 79s 173us/step - loss: 0.1218 - mse: 0.1336 - val_loss: 0.9205 - val_mse: 1.0976\n",
      "Epoch 8/10\n",
      "453701/453701 [==============================] - 80s 175us/step - loss: 0.1371 - mse: 0.6697 - val_loss: 0.6828 - val_mse: 0.6359\n",
      "Epoch 9/10\n",
      "453701/453701 [==============================] - 78s 172us/step - loss: 0.1212 - mse: 0.0356 - val_loss: 0.6566 - val_mse: 0.5675\n",
      "Epoch 10/10\n",
      "453701/453701 [==============================] - 77s 170us/step - loss: 0.1184 - mse: 0.0337 - val_loss: 0.8393 - val_mse: 0.9539\n"
     ]
    }
   ],
   "source": [
    "#Building the neural network\n",
    "#importing the keras libraries\n",
    "import keras\n",
    "from keras.models import Sequential\n",
    "from keras.layers import Dense, Dropout\n",
    "from keras import regularizers\n",
    "\n",
    "\n",
    "model = Sequential()\n",
    "\n",
    "# The Input Layer :\n",
    "model.add(Dense(output_dim = 960, kernel_initializer='normal',input_dim = 30, W_regularizer=regularizers.l2(0.01), activation='relu'))\n",
    "model.add(keras.layers.Dropout(0.1))\n",
    "\n",
    "# The Hidden Layers :\n",
    "model.add(Dense(256, kernel_initializer='normal',activation='relu', W_regularizer=regularizers.l2(0.01)))\n",
    "model.add(Dense(256, kernel_initializer='normal',activation='relu', W_regularizer=regularizers.l2(0.01)))\n",
    "model.add(Dense(256, kernel_initializer='normal',activation='relu', W_regularizer=regularizers.l2(0.01)))\n",
    "model.add(keras.layers.Dropout(0.1))\n",
    "\n",
    "# The Output Layer :\n",
    "model.add(Dense(1, kernel_initializer='normal',activation='linear'))\n",
    "\n",
    "#compiling the model\n",
    "model.compile(loss='mean_absolute_error', optimizer='adam', metrics=['mse'])\n",
    "\n",
    "#fitting the model\n",
    "history = model.fit(X_train, y_train, batch_size=100, validation_data=(X_test, y_test), nb_epoch = 10)"
   ]
  },
  {
   "cell_type": "code",
   "execution_count": 11,
   "metadata": {},
   "outputs": [
    {
     "name": "stdout",
     "output_type": "stream",
     "text": [
      "dict_keys(['val_loss', 'val_mse', 'loss', 'mse'])\n"
     ]
    }
   ],
   "source": [
    "print(history.history.keys())"
   ]
  },
  {
   "cell_type": "code",
   "execution_count": 13,
   "metadata": {},
   "outputs": [
    {
     "data": {
      "image/png": "[encoded data removed]",
      "text/plain": [
       "<Figure size 432x288 with 1 Axes>"
      ]
     },
     "metadata": {
      "needs_background": "light"
     },
     "output_type": "display_data"
    },
    {
     "data": {
      "image/png": "[encoded data removed]",
      "text/plain": [
       "<Figure size 432x288 with 1 Axes>"
      ]
     },
     "metadata": {
      "needs_background": "light"
     },
     "output_type": "display_data"
    }
   ],
   "source": [
    "# summarize history for accuracy\n",
    "plt.plot(history.history['mse'])\n",
    "plt.plot(history.history['val_mse'])\n",
    "plt.title('model mse')\n",
    "plt.ylabel('MSE')\n",
    "plt.xlabel('epoch')\n",
    "plt.legend(['train', 'validation'], loc='upper left')\n",
    "plt.show()\n",
    "# summarize history for loss\n",
    "plt.plot(history.history['loss'])\n",
    "plt.plot(history.history['val_loss'])\n",
    "plt.title('model loss')\n",
    "plt.ylabel('loss')\n",
    "plt.xlabel('epoch')\n",
    "plt.legend(['train', 'validation'], loc='upper left')\n",
    "plt.show()"
   ]
  },
  {
   "cell_type": "code",
   "execution_count": 14,
   "metadata": {},
   "outputs": [],
   "source": [
    "#predicting the test set and validation set\n",
    "y_pred = model.predict(Z_test)\n",
    "y_pred1= model.predict(X_test)"
   ]
  },
  {
   "cell_type": "code",
   "execution_count": 15,
   "metadata": {},
   "outputs": [
    {
     "name": "stdout",
     "output_type": "stream",
     "text": [
      "The predicted z values are [[0.47242096]\n",
      " [0.407482  ]\n",
      " [0.45997134]\n",
      " ...\n",
      " [0.4007403 ]\n",
      " [0.5220553 ]\n",
      " [0.45695013]]\n"
     ]
    }
   ],
   "source": [
    "#Refered from base paper. Page 5\n",
    "e = 2.71828\n",
    "y_pred=2.71828**(y_pred-1)\n",
    "y_pred1=2.71828**(y_pred1-1)\n",
    "print(\"The predicted z values are\",y_pred)"
   ]
  },
  {
   "cell_type": "code",
   "execution_count": 24,
   "metadata": {},
   "outputs": [
    {
     "data": {
      "image/png": "[encoded data removed]",
      "text/plain": [
       "<Figure size 432x288 with 1 Axes>"
      ]
     },
     "metadata": {
      "needs_background": "light"
     },
     "output_type": "display_data"
    }
   ],
   "source": [
    "#traning vs validation redshift\n",
    "fig = plt.figure()\n",
    "ax1 = fig.add_subplot(111)\n",
    "plt.title(\"ANN\")\n",
    "ax1.scatter(y_test.tolist()[:25000], y_pred1.tolist()[:25000], alpha=0.2, s=0.2)\n",
    "ax1.set_xlabel(\"Validation redshift\")\n",
    "ax1.set_ylabel(\"Predicted redshift\")\n",
    "ax1.plot([0,.5], [0.37,.6], '-r')\n",
    "ax1.set_xlim(0.0, .5)\n",
    "ax1.set_ylim(0.37, .6)\n",
    "plt.show()"
   ]
  },
  {
   "cell_type": "code",
   "execution_count": 17,
   "metadata": {},
   "outputs": [
    {
     "name": "stdout",
     "output_type": "stream",
     "text": [
      "Explained variance (best possible score is 1.0, lower values are worse): -0.0377226712916896\n",
      "Mean Absolute Error (best is 0.0): 0.25901065838617887\n",
      "Mean Squared Error (best is 0.0): 0.1167050433183672\n",
      "R2 score (best is 1.0): -0.03976252038786687\n",
      "Root mean Squared Error : 0.34162119857872875\n",
      "Model Bias Score: 0.8775709516586366\n"
     ]
    },
    {
     "data": {
      "image/png": "[encoded data removed]",
      "text/plain": [
       "<Figure size 432x288 with 1 Axes>"
      ]
     },
     "metadata": {
      "needs_background": "light"
     },
     "output_type": "display_data"
    },
    {
     "name": "stdout",
     "output_type": "stream",
     "text": [
      "Time:  37.11562817 minutes\n"
     ]
    }
   ],
   "source": [
    "#Evaluating the model\n",
    "from sklearn import metrics\n",
    "from math import sqrt\n",
    "\n",
    "var = metrics.explained_variance_score(y_test.tolist()[:25000], y_pred.tolist()[:25000])\n",
    "mae = metrics.mean_absolute_error(y_test.tolist()[:25000], y_pred.tolist()[:25000])\n",
    "mse = metrics.mean_squared_error(y_test.tolist()[:25000], y_pred.tolist()[:25000])\n",
    "r2 = metrics.r2_score(y_test.tolist()[:25000], y_pred.tolist()[:25000])\n",
    "rms = sqrt(metrics.mean_squared_error(y_test.tolist()[:25000], y_pred.tolist()[:25000]))\n",
    "bias = (1/N)*sum(((np.subtract(y_pred.tolist()[:25000],y_test.tolist()[:25000]))/(np.subtract(1,y_test.tolist()[:25000]))), M)\n",
    "\n",
    "print ('Explained variance (best possible score is 1.0, lower values are worse):', var)\n",
    "print ('Mean Absolute Error (best is 0.0):', mae)\n",
    "print ('Mean Squared Error (best is 0.0):', mse)\n",
    "print ('R2 score (best is 1.0):', r2)\n",
    "print('Root mean Squared Error :', rms)\n",
    "print('Model Bias Score:', bias.mean())\n",
    "\n",
    "x = np.arange(-1., 1., 0.018)\n",
    "\n",
    "fig = plt.figure()\n",
    "ax = fig.add_subplot(1, 2, 1)\n",
    "\n",
    "# Move left y-axis and bottim x-axis to centre, passing through (0,0)\n",
    "ax.spines['left'].set_position('center')\n",
    "ax.spines['bottom'].set_position('center')\n",
    "\n",
    "# Eliminate upper and right axes\n",
    "ax.spines['right'].set_color('none')\n",
    "ax.spines['top'].set_color('none')\n",
    "\n",
    "plt.plot(x,x,color='none')\n",
    "plt.scatter(0,r2,color='blue',s=150)\n",
    "plt.text(.2,r2, \"R2_score: {:0.2f}\".format(r2), style='italic')\n",
    "plt.show()\n",
    "\n",
    "stop = timeit.default_timer()\n",
    "print('Time: ', (stop - start)/60,'minutes')  "
   ]
  },
  {
   "cell_type": "code",
   "execution_count": 18,
   "metadata": {},
   "outputs": [],
   "source": [
    "y_pred = pd.DataFrame(y_pred, columns=['z_predictions'])\n",
    "Z_test = pd.DataFrame(Z_test, columns=['modelMag_u','modelMag_g','modelMag_r','modelMag_i','modelMag_z','mm_u-g','mm_g-r','mm_r-i','mm_i-z', 'fiberMag_u','fiberMag_g','fiberMag_r','fiberMag_i','fiberMag_z','fm_u-g','fm_g-r','fm_r-i','fm_i-z','p50r/p90r','p50z/p90z','r-i','i-z','mmug','mmgr','mmri','mmiz','mfug','mfgr','mfri','mfiz'])\n",
    "result = Z_test.join(y_pred)\n",
    "result.to_csv('data/Z_pred-result.csv', index='false')"
   ]
  }
 ],
 "metadata": {
  "kernelspec": {
   "display_name": "Python 3",
   "language": "python",
   "name": "python3"
  },
  "language_info": {
   "codemirror_mode": {
    "name": "ipython",
    "version": 3
   },
   "file_extension": ".py",
   "mimetype": "text/x-python",
   "name": "python",
   "nbconvert_exporter": "python",
   "pygments_lexer": "ipython3",
   "version": "3.6.5"
  }
 },
 "nbformat": 4,
 "nbformat_minor": 2
}
